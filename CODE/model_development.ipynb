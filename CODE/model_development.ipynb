{
 "cells": [
  {
   "cell_type": "code",
   "execution_count": 25,
   "metadata": {},
   "outputs": [],
   "source": [
    "import pandas as pd\n",
    "import numpy as np\n",
    "from sklearn.preprocessing import StandardScaler\n",
    "from sklearn.model_selection import ShuffleSplit\n",
    "from sklearn.model_selection import train_test_split\n",
    "from sklearn.model_selection import cross_validate\n",
    "from sklearn import linear_model\n",
    "from sklearn.ensemble import RandomForestRegressor\n",
    "from sklearn.svm import SVR\n",
    "from sklearn.pipeline import make_pipeline\n",
    "from sklearn.neural_network import MLPClassifier\n",
    "from sklearn import ensemble\n",
    "from sklearn.model_selection import GridSearchCV\n",
    "from xgboost import XGBRegressor\n",
    "\n",
    "import xgboost as xgb\n",
    "from sklearn.model_selection import train_test_split\n",
    "from sklearn.metrics import mean_squared_error"
   ]
  },
  {
   "cell_type": "markdown",
   "metadata": {},
   "source": [
    "### Shape Data"
   ]
  },
  {
   "cell_type": "code",
   "execution_count": 26,
   "metadata": {},
   "outputs": [],
   "source": [
    "df = pd.read_csv('county_level_data.csv')"
   ]
  },
  {
   "cell_type": "code",
   "execution_count": 28,
   "metadata": {},
   "outputs": [],
   "source": [
    "df = df[df.year.notnull()]"
   ]
  },
  {
   "cell_type": "code",
   "execution_count": 29,
   "metadata": {},
   "outputs": [],
   "source": [
    "df = df.astype({'year':int}).astype({'year':str})"
   ]
  },
  {
   "cell_type": "code",
   "execution_count": 30,
   "metadata": {},
   "outputs": [
    {
     "data": {
      "text/html": [
       "<div>\n",
       "<style scoped>\n",
       "    .dataframe tbody tr th:only-of-type {\n",
       "        vertical-align: middle;\n",
       "    }\n",
       "\n",
       "    .dataframe tbody tr th {\n",
       "        vertical-align: top;\n",
       "    }\n",
       "\n",
       "    .dataframe thead th {\n",
       "        text-align: right;\n",
       "    }\n",
       "</style>\n",
       "<table border=\"1\" class=\"dataframe\">\n",
       "  <thead>\n",
       "    <tr style=\"text-align: right;\">\n",
       "      <th></th>\n",
       "      <th>year</th>\n",
       "      <th>state_name</th>\n",
       "      <th>county</th>\n",
       "      <th>county_fips</th>\n",
       "      <th>lat</th>\n",
       "      <th>lng</th>\n",
       "      <th>population</th>\n",
       "      <th>corn_yield_per_acre</th>\n",
       "      <th>corn_price_per_bushel</th>\n",
       "      <th>land_rental_price</th>\n",
       "      <th>corn_planted_acres</th>\n",
       "      <th>total_rain</th>\n",
       "      <th>rain_days</th>\n",
       "      <th>max_temp</th>\n",
       "      <th>min_temp</th>\n",
       "      <th>too_cold_days</th>\n",
       "      <th>too_hot_days</th>\n",
       "    </tr>\n",
       "  </thead>\n",
       "  <tbody>\n",
       "    <tr>\n",
       "      <th>0</th>\n",
       "      <td>2021</td>\n",
       "      <td>ILLINOIS</td>\n",
       "      <td>COOK</td>\n",
       "      <td>17031</td>\n",
       "      <td>41.8401</td>\n",
       "      <td>-87.8168</td>\n",
       "      <td>5169517</td>\n",
       "      <td>170.3</td>\n",
       "      <td>5.40</td>\n",
       "      <td>95.0</td>\n",
       "      <td>2,860</td>\n",
       "      <td>17.279528</td>\n",
       "      <td>50.0</td>\n",
       "      <td>96.08</td>\n",
       "      <td>37.04</td>\n",
       "      <td>15.0</td>\n",
       "      <td>1.0</td>\n",
       "    </tr>\n",
       "    <tr>\n",
       "      <th>1</th>\n",
       "      <td>2019</td>\n",
       "      <td>ILLINOIS</td>\n",
       "      <td>COOK</td>\n",
       "      <td>17031</td>\n",
       "      <td>41.8401</td>\n",
       "      <td>-87.8168</td>\n",
       "      <td>5169517</td>\n",
       "      <td>174.0</td>\n",
       "      <td>3.55</td>\n",
       "      <td>NaN</td>\n",
       "      <td>1,000</td>\n",
       "      <td>30.188976</td>\n",
       "      <td>71.0</td>\n",
       "      <td>96.98</td>\n",
       "      <td>42.08</td>\n",
       "      <td>18.0</td>\n",
       "      <td>2.0</td>\n",
       "    </tr>\n",
       "    <tr>\n",
       "      <th>2</th>\n",
       "      <td>2016</td>\n",
       "      <td>ILLINOIS</td>\n",
       "      <td>COOK</td>\n",
       "      <td>17031</td>\n",
       "      <td>41.8401</td>\n",
       "      <td>-87.8168</td>\n",
       "      <td>5169517</td>\n",
       "      <td>170.0</td>\n",
       "      <td>3.43</td>\n",
       "      <td>NaN</td>\n",
       "      <td>3,000</td>\n",
       "      <td>24.830709</td>\n",
       "      <td>55.0</td>\n",
       "      <td>93.92</td>\n",
       "      <td>37.94</td>\n",
       "      <td>15.0</td>\n",
       "      <td>0.0</td>\n",
       "    </tr>\n",
       "    <tr>\n",
       "      <th>3</th>\n",
       "      <td>2021</td>\n",
       "      <td>TEXAS</td>\n",
       "      <td>BEXAR</td>\n",
       "      <td>48029</td>\n",
       "      <td>29.4489</td>\n",
       "      <td>-98.5200</td>\n",
       "      <td>1978826</td>\n",
       "      <td>73.9</td>\n",
       "      <td>6.00</td>\n",
       "      <td>43.0</td>\n",
       "      <td>6,060</td>\n",
       "      <td>36.200787</td>\n",
       "      <td>98.0</td>\n",
       "      <td>99.50</td>\n",
       "      <td>52.34</td>\n",
       "      <td>0.0</td>\n",
       "      <td>22.0</td>\n",
       "    </tr>\n",
       "    <tr>\n",
       "      <th>4</th>\n",
       "      <td>2021</td>\n",
       "      <td>TEXAS</td>\n",
       "      <td>BEXAR</td>\n",
       "      <td>48029</td>\n",
       "      <td>29.4489</td>\n",
       "      <td>-98.5200</td>\n",
       "      <td>1978826</td>\n",
       "      <td>73.9</td>\n",
       "      <td>6.00</td>\n",
       "      <td>23.0</td>\n",
       "      <td>6,060</td>\n",
       "      <td>36.200787</td>\n",
       "      <td>98.0</td>\n",
       "      <td>99.50</td>\n",
       "      <td>52.34</td>\n",
       "      <td>0.0</td>\n",
       "      <td>22.0</td>\n",
       "    </tr>\n",
       "  </tbody>\n",
       "</table>\n",
       "</div>"
      ],
      "text/plain": [
       "   year state_name county  county_fips      lat      lng  population  \\\n",
       "0  2021   ILLINOIS   COOK        17031  41.8401 -87.8168     5169517   \n",
       "1  2019   ILLINOIS   COOK        17031  41.8401 -87.8168     5169517   \n",
       "2  2016   ILLINOIS   COOK        17031  41.8401 -87.8168     5169517   \n",
       "3  2021      TEXAS  BEXAR        48029  29.4489 -98.5200     1978826   \n",
       "4  2021      TEXAS  BEXAR        48029  29.4489 -98.5200     1978826   \n",
       "\n",
       "   corn_yield_per_acre  corn_price_per_bushel  land_rental_price  \\\n",
       "0                170.3                   5.40               95.0   \n",
       "1                174.0                   3.55                NaN   \n",
       "2                170.0                   3.43                NaN   \n",
       "3                 73.9                   6.00               43.0   \n",
       "4                 73.9                   6.00               23.0   \n",
       "\n",
       "  corn_planted_acres  total_rain  rain_days  max_temp  min_temp  \\\n",
       "0              2,860   17.279528       50.0     96.08     37.04   \n",
       "1              1,000   30.188976       71.0     96.98     42.08   \n",
       "2              3,000   24.830709       55.0     93.92     37.94   \n",
       "3              6,060   36.200787       98.0     99.50     52.34   \n",
       "4              6,060   36.200787       98.0     99.50     52.34   \n",
       "\n",
       "   too_cold_days  too_hot_days  \n",
       "0           15.0           1.0  \n",
       "1           18.0           2.0  \n",
       "2           15.0           0.0  \n",
       "3            0.0          22.0  \n",
       "4            0.0          22.0  "
      ]
     },
     "execution_count": 30,
     "metadata": {},
     "output_type": "execute_result"
    }
   ],
   "source": [
    "df.head()"
   ]
  },
  {
   "cell_type": "markdown",
   "metadata": {},
   "source": [
    "### Impute with Averages"
   ]
  },
  {
   "cell_type": "code",
   "execution_count": 31,
   "metadata": {},
   "outputs": [],
   "source": [
    "df_grouped = df.groupby(by = ['year','state_name','county','county_fips','lat','lng','population','corn_yield_per_acre','corn_price_per_bushel','total_rain', 'rain_days', 'max_temp', 'min_temp', 'too_hot_days', 'too_cold_days']).mean().reset_index()"
   ]
  },
  {
   "cell_type": "code",
   "execution_count": 32,
   "metadata": {},
   "outputs": [],
   "source": [
    "df_grouped = df_grouped.where(pd.notnull(df_grouped), None)"
   ]
  },
  {
   "cell_type": "code",
   "execution_count": 33,
   "metadata": {},
   "outputs": [],
   "source": [
    "df_grouped['land_rental_price'] = df_grouped['land_rental_price'].fillna(df_grouped.groupby(['year', 'state_name'])['land_rental_price'].transform('mean'))\n",
    "df_grouped['land_rental_price'] = df_grouped['land_rental_price'].fillna(df_grouped.groupby(['state_name'])['land_rental_price'].transform('mean'))"
   ]
  },
  {
   "cell_type": "code",
   "execution_count": 34,
   "metadata": {},
   "outputs": [],
   "source": [
    "df_grouped = df_grouped.astype({'year':str, 'state_name':str, 'county':str, 'county_fips':str})\n",
    "df_prediction = df_grouped"
   ]
  },
  {
   "cell_type": "code",
   "execution_count": 35,
   "metadata": {},
   "outputs": [],
   "source": [
    "df_grouped['index'] = df_grouped.year + '-' + df_grouped.state_name + '-' + df_grouped.county + '-' + df_grouped.county_fips"
   ]
  },
  {
   "cell_type": "code",
   "execution_count": 36,
   "metadata": {},
   "outputs": [],
   "source": [
    "df_grouped = df_grouped.drop(['year','state_name','county', 'county_fips'], axis=1).set_index('index')"
   ]
  },
  {
   "cell_type": "code",
   "execution_count": 37,
   "metadata": {},
   "outputs": [
    {
     "data": {
      "text/html": [
       "<div>\n",
       "<style scoped>\n",
       "    .dataframe tbody tr th:only-of-type {\n",
       "        vertical-align: middle;\n",
       "    }\n",
       "\n",
       "    .dataframe tbody tr th {\n",
       "        vertical-align: top;\n",
       "    }\n",
       "\n",
       "    .dataframe thead th {\n",
       "        text-align: right;\n",
       "    }\n",
       "</style>\n",
       "<table border=\"1\" class=\"dataframe\">\n",
       "  <thead>\n",
       "    <tr style=\"text-align: right;\">\n",
       "      <th></th>\n",
       "      <th>lat</th>\n",
       "      <th>lng</th>\n",
       "      <th>population</th>\n",
       "      <th>corn_yield_per_acre</th>\n",
       "      <th>corn_price_per_bushel</th>\n",
       "      <th>total_rain</th>\n",
       "      <th>rain_days</th>\n",
       "      <th>max_temp</th>\n",
       "      <th>min_temp</th>\n",
       "      <th>too_hot_days</th>\n",
       "      <th>too_cold_days</th>\n",
       "      <th>land_rental_price</th>\n",
       "    </tr>\n",
       "    <tr>\n",
       "      <th>index</th>\n",
       "      <th></th>\n",
       "      <th></th>\n",
       "      <th></th>\n",
       "      <th></th>\n",
       "      <th></th>\n",
       "      <th></th>\n",
       "      <th></th>\n",
       "      <th></th>\n",
       "      <th></th>\n",
       "      <th></th>\n",
       "      <th></th>\n",
       "      <th></th>\n",
       "    </tr>\n",
       "  </thead>\n",
       "  <tbody>\n",
       "    <tr>\n",
       "      <th>2012-ALABAMA-BLOUNT-1009</th>\n",
       "      <td>33.9809</td>\n",
       "      <td>-86.5674</td>\n",
       "      <td>57755</td>\n",
       "      <td>70.0</td>\n",
       "      <td>7.18</td>\n",
       "      <td>0.000000</td>\n",
       "      <td>0.0</td>\n",
       "      <td>100.40</td>\n",
       "      <td>50.00</td>\n",
       "      <td>4.0</td>\n",
       "      <td>0.0</td>\n",
       "      <td>36.425926</td>\n",
       "    </tr>\n",
       "    <tr>\n",
       "      <th>2012-ALABAMA-BULLOCK-1011</th>\n",
       "      <td>32.1005</td>\n",
       "      <td>-85.7157</td>\n",
       "      <td>10173</td>\n",
       "      <td>142.0</td>\n",
       "      <td>7.18</td>\n",
       "      <td>4.476378</td>\n",
       "      <td>23.0</td>\n",
       "      <td>98.96</td>\n",
       "      <td>46.94</td>\n",
       "      <td>5.0</td>\n",
       "      <td>2.0</td>\n",
       "      <td>12.500000</td>\n",
       "    </tr>\n",
       "    <tr>\n",
       "      <th>2012-ALABAMA-BUTLER-1013</th>\n",
       "      <td>31.7524</td>\n",
       "      <td>-86.6803</td>\n",
       "      <td>19726</td>\n",
       "      <td>122.2</td>\n",
       "      <td>7.18</td>\n",
       "      <td>0.000000</td>\n",
       "      <td>0.0</td>\n",
       "      <td>98.06</td>\n",
       "      <td>51.98</td>\n",
       "      <td>4.0</td>\n",
       "      <td>0.0</td>\n",
       "      <td>25.000000</td>\n",
       "    </tr>\n",
       "    <tr>\n",
       "      <th>2012-ALABAMA-CALHOUN-1015</th>\n",
       "      <td>33.7714</td>\n",
       "      <td>-85.8260</td>\n",
       "      <td>114324</td>\n",
       "      <td>98.7</td>\n",
       "      <td>7.18</td>\n",
       "      <td>7.311024</td>\n",
       "      <td>10.0</td>\n",
       "      <td>102.92</td>\n",
       "      <td>44.06</td>\n",
       "      <td>5.0</td>\n",
       "      <td>2.0</td>\n",
       "      <td>29.500000</td>\n",
       "    </tr>\n",
       "    <tr>\n",
       "      <th>2012-ALABAMA-CHEROKEE-1019</th>\n",
       "      <td>34.1759</td>\n",
       "      <td>-85.6038</td>\n",
       "      <td>26035</td>\n",
       "      <td>80.9</td>\n",
       "      <td>7.18</td>\n",
       "      <td>0.000000</td>\n",
       "      <td>0.0</td>\n",
       "      <td>100.40</td>\n",
       "      <td>37.40</td>\n",
       "      <td>5.0</td>\n",
       "      <td>7.0</td>\n",
       "      <td>44.500000</td>\n",
       "    </tr>\n",
       "  </tbody>\n",
       "</table>\n",
       "</div>"
      ],
      "text/plain": [
       "                                lat      lng  population  corn_yield_per_acre  \\\n",
       "index                                                                           \n",
       "2012-ALABAMA-BLOUNT-1009    33.9809 -86.5674       57755                 70.0   \n",
       "2012-ALABAMA-BULLOCK-1011   32.1005 -85.7157       10173                142.0   \n",
       "2012-ALABAMA-BUTLER-1013    31.7524 -86.6803       19726                122.2   \n",
       "2012-ALABAMA-CALHOUN-1015   33.7714 -85.8260      114324                 98.7   \n",
       "2012-ALABAMA-CHEROKEE-1019  34.1759 -85.6038       26035                 80.9   \n",
       "\n",
       "                            corn_price_per_bushel  total_rain  rain_days  \\\n",
       "index                                                                      \n",
       "2012-ALABAMA-BLOUNT-1009                     7.18    0.000000        0.0   \n",
       "2012-ALABAMA-BULLOCK-1011                    7.18    4.476378       23.0   \n",
       "2012-ALABAMA-BUTLER-1013                     7.18    0.000000        0.0   \n",
       "2012-ALABAMA-CALHOUN-1015                    7.18    7.311024       10.0   \n",
       "2012-ALABAMA-CHEROKEE-1019                   7.18    0.000000        0.0   \n",
       "\n",
       "                            max_temp  min_temp  too_hot_days  too_cold_days  \\\n",
       "index                                                                         \n",
       "2012-ALABAMA-BLOUNT-1009      100.40     50.00           4.0            0.0   \n",
       "2012-ALABAMA-BULLOCK-1011      98.96     46.94           5.0            2.0   \n",
       "2012-ALABAMA-BUTLER-1013       98.06     51.98           4.0            0.0   \n",
       "2012-ALABAMA-CALHOUN-1015     102.92     44.06           5.0            2.0   \n",
       "2012-ALABAMA-CHEROKEE-1019    100.40     37.40           5.0            7.0   \n",
       "\n",
       "                            land_rental_price  \n",
       "index                                          \n",
       "2012-ALABAMA-BLOUNT-1009            36.425926  \n",
       "2012-ALABAMA-BULLOCK-1011           12.500000  \n",
       "2012-ALABAMA-BUTLER-1013            25.000000  \n",
       "2012-ALABAMA-CALHOUN-1015           29.500000  \n",
       "2012-ALABAMA-CHEROKEE-1019          44.500000  "
      ]
     },
     "execution_count": 37,
     "metadata": {},
     "output_type": "execute_result"
    }
   ],
   "source": [
    "df_grouped.head(5)"
   ]
  },
  {
   "cell_type": "markdown",
   "metadata": {},
   "source": [
    "### Identify Best Model - Cross Validation on Multiple models"
   ]
  },
  {
   "cell_type": "code",
   "execution_count": 38,
   "metadata": {},
   "outputs": [],
   "source": [
    "y = pd.DataFrame(df_grouped['corn_yield_per_acre'])"
   ]
  },
  {
   "cell_type": "code",
   "execution_count": 39,
   "metadata": {},
   "outputs": [],
   "source": [
    "X = df_grouped.drop(['corn_yield_per_acre'], axis = 1)"
   ]
  },
  {
   "cell_type": "code",
   "execution_count": 40,
   "metadata": {},
   "outputs": [],
   "source": [
    "X_scaled = pd.DataFrame(StandardScaler().fit_transform(X)).set_axis(X.columns, axis=1).set_axis(X.index, axis=0)"
   ]
  },
  {
   "cell_type": "code",
   "execution_count": 41,
   "metadata": {},
   "outputs": [],
   "source": [
    "# X_scaled"
   ]
  },
  {
   "cell_type": "code",
   "execution_count": 42,
   "metadata": {},
   "outputs": [],
   "source": [
    "# X_train, X_test, y_train, y_test = train_test_split(X_scaled, y, test_size=0.2, random_state=0)"
   ]
  },
  {
   "cell_type": "code",
   "execution_count": 43,
   "metadata": {},
   "outputs": [],
   "source": [
    "# CV Selection\n",
    "n_samples = X.shape[0]\n",
    "cv = ShuffleSplit(n_splits=5, test_size=0.2, random_state=0)"
   ]
  },
  {
   "cell_type": "code",
   "execution_count": 44,
   "metadata": {},
   "outputs": [],
   "source": [
    "xgb_params = {\n",
    "    \"n_estimators\": 500,\n",
    "    \"max_depth\": 4,\n",
    "    \"min_samples_split\": 5,\n",
    "    \"learning_rate\": 0.01,\n",
    "#     \"loss\": \"squared_error\",\n",
    "}"
   ]
  },
  {
   "cell_type": "code",
   "execution_count": 45,
   "metadata": {},
   "outputs": [],
   "source": [
    "lasso = linear_model.Lasso()\n",
    "ridge = linear_model.Ridge()\n",
    "linear_regression = linear_model.LinearRegression()\n",
    "rforest = RandomForestRegressor(max_depth=2, random_state=0)\n",
    "svr = make_pipeline(StandardScaler(), SVR(C=1.0, epsilon=0.2))\n",
    "xgb_model = ensemble.GradientBoostingRegressor(**xgb_params)"
   ]
  },
  {
   "cell_type": "code",
   "execution_count": 46,
   "metadata": {},
   "outputs": [
    {
     "name": "stderr",
     "output_type": "stream",
     "text": [
      "C:\\Users\\camer\\Anaconda3\\lib\\site-packages\\sklearn\\model_selection\\_validation.py:515: DataConversionWarning: A column-vector y was passed when a 1d array was expected. Please change the shape of y to (n_samples,), for example using ravel().\n",
      "  estimator.fit(X_train, y_train, **fit_params)\n",
      "C:\\Users\\camer\\Anaconda3\\lib\\site-packages\\sklearn\\model_selection\\_validation.py:515: DataConversionWarning: A column-vector y was passed when a 1d array was expected. Please change the shape of y to (n_samples,), for example using ravel().\n",
      "  estimator.fit(X_train, y_train, **fit_params)\n",
      "C:\\Users\\camer\\Anaconda3\\lib\\site-packages\\sklearn\\model_selection\\_validation.py:515: DataConversionWarning: A column-vector y was passed when a 1d array was expected. Please change the shape of y to (n_samples,), for example using ravel().\n",
      "  estimator.fit(X_train, y_train, **fit_params)\n",
      "C:\\Users\\camer\\Anaconda3\\lib\\site-packages\\sklearn\\model_selection\\_validation.py:515: DataConversionWarning: A column-vector y was passed when a 1d array was expected. Please change the shape of y to (n_samples,), for example using ravel().\n",
      "  estimator.fit(X_train, y_train, **fit_params)\n",
      "C:\\Users\\camer\\Anaconda3\\lib\\site-packages\\sklearn\\model_selection\\_validation.py:515: DataConversionWarning: A column-vector y was passed when a 1d array was expected. Please change the shape of y to (n_samples,), for example using ravel().\n",
      "  estimator.fit(X_train, y_train, **fit_params)\n",
      "C:\\Users\\camer\\Anaconda3\\lib\\site-packages\\sklearn\\utils\\validation.py:760: DataConversionWarning: A column-vector y was passed when a 1d array was expected. Please change the shape of y to (n_samples, ), for example using ravel().\n",
      "  y = column_or_1d(y, warn=True)\n",
      "C:\\Users\\camer\\Anaconda3\\lib\\site-packages\\sklearn\\utils\\validation.py:760: DataConversionWarning: A column-vector y was passed when a 1d array was expected. Please change the shape of y to (n_samples, ), for example using ravel().\n",
      "  y = column_or_1d(y, warn=True)\n",
      "C:\\Users\\camer\\Anaconda3\\lib\\site-packages\\sklearn\\utils\\validation.py:760: DataConversionWarning: A column-vector y was passed when a 1d array was expected. Please change the shape of y to (n_samples, ), for example using ravel().\n",
      "  y = column_or_1d(y, warn=True)\n",
      "C:\\Users\\camer\\Anaconda3\\lib\\site-packages\\sklearn\\utils\\validation.py:760: DataConversionWarning: A column-vector y was passed when a 1d array was expected. Please change the shape of y to (n_samples, ), for example using ravel().\n",
      "  y = column_or_1d(y, warn=True)\n",
      "C:\\Users\\camer\\Anaconda3\\lib\\site-packages\\sklearn\\utils\\validation.py:760: DataConversionWarning: A column-vector y was passed when a 1d array was expected. Please change the shape of y to (n_samples, ), for example using ravel().\n",
      "  y = column_or_1d(y, warn=True)\n",
      "C:\\Users\\camer\\Anaconda3\\lib\\site-packages\\sklearn\\ensemble\\_gb.py:1454: DataConversionWarning: A column-vector y was passed when a 1d array was expected. Please change the shape of y to (n_samples, ), for example using ravel().\n",
      "  y = column_or_1d(y, warn=True)\n",
      "C:\\Users\\camer\\Anaconda3\\lib\\site-packages\\sklearn\\ensemble\\_gb.py:1454: DataConversionWarning: A column-vector y was passed when a 1d array was expected. Please change the shape of y to (n_samples, ), for example using ravel().\n",
      "  y = column_or_1d(y, warn=True)\n",
      "C:\\Users\\camer\\Anaconda3\\lib\\site-packages\\sklearn\\ensemble\\_gb.py:1454: DataConversionWarning: A column-vector y was passed when a 1d array was expected. Please change the shape of y to (n_samples, ), for example using ravel().\n",
      "  y = column_or_1d(y, warn=True)\n",
      "C:\\Users\\camer\\Anaconda3\\lib\\site-packages\\sklearn\\ensemble\\_gb.py:1454: DataConversionWarning: A column-vector y was passed when a 1d array was expected. Please change the shape of y to (n_samples, ), for example using ravel().\n",
      "  y = column_or_1d(y, warn=True)\n",
      "C:\\Users\\camer\\Anaconda3\\lib\\site-packages\\sklearn\\ensemble\\_gb.py:1454: DataConversionWarning: A column-vector y was passed when a 1d array was expected. Please change the shape of y to (n_samples, ), for example using ravel().\n",
      "  y = column_or_1d(y, warn=True)\n"
     ]
    }
   ],
   "source": [
    "lasso_cv = cross_validate(lasso, X, y, cv=cv)\n",
    "ridge_cv = cross_validate(ridge, X, y, cv=cv)\n",
    "linear_cv = cross_validate(linear_regression, X, y, cv=cv)\n",
    "rforest_cv = cross_validate(rforest, X, y, cv=cv)\n",
    "svr_cv = cross_validate(svr, X_scaled, y, cv=cv)\n",
    "xgb_cv = cross_validate(xgb_model, X_scaled, y, cv=cv)"
   ]
  },
  {
   "cell_type": "code",
   "execution_count": 47,
   "metadata": {},
   "outputs": [
    {
     "name": "stdout",
     "output_type": "stream",
     "text": [
      "0.4062097179276316 0.4077022897092748 0.4077024542603963 0.38533539686526747 0.5058746686231316 0.6423911526759984\n"
     ]
    }
   ],
   "source": [
    "print(lasso_cv['test_score'].mean(),\n",
    "ridge_cv['test_score'].mean(),\n",
    "linear_cv['test_score'].mean(),\n",
    "rforest_cv['test_score'].mean(),\n",
    "svr_cv['test_score'].mean(),\n",
    "xgb_cv['test_score'].mean()     \n",
    "     )\n",
    "\n",
    "# XGBoost is the best model"
   ]
  },
  {
   "cell_type": "markdown",
   "metadata": {},
   "source": [
    "### Checking some baseline XGBoost Models"
   ]
  },
  {
   "cell_type": "code",
   "execution_count": 48,
   "metadata": {},
   "outputs": [
    {
     "name": "stdout",
     "output_type": "stream",
     "text": [
      "RMSE: 22.46\n"
     ]
    }
   ],
   "source": [
    "dmatrix = xgb.DMatrix(data=X, label=y)\n",
    "params={'objective':'reg:squarederror'}\n",
    "cv_results = xgb.cv(dtrain=dmatrix, params=params, nfold=10, metrics={'rmse'}, as_pandas=True, seed=20)\n",
    "print('RMSE: %.2f' % cv_results['test-rmse-mean'].min())"
   ]
  },
  {
   "cell_type": "code",
   "execution_count": 49,
   "metadata": {},
   "outputs": [
    {
     "name": "stdout",
     "output_type": "stream",
     "text": [
      "RMSE: 31.31\n"
     ]
    }
   ],
   "source": [
    "dmatrix = xgb.DMatrix(data=X, label=y)\n",
    "params={ 'objective':'reg:squarederror',\n",
    "         'max_depth': 6, \n",
    "         'colsample_bylevel':0.5,\n",
    "         'learning_rate':0.01,\n",
    "         'random_state':20}\n",
    "cv_results = xgb.cv(dtrain=dmatrix, params=params, nfold=10, metrics={'rmse'}, as_pandas=True, seed=20, num_boost_round=1000)\n",
    "print('RMSE: %.2f' % cv_results['test-rmse-mean'].mean())"
   ]
  },
  {
   "cell_type": "markdown",
   "metadata": {},
   "source": [
    "### GridSearchCV"
   ]
  },
  {
   "cell_type": "code",
   "execution_count": 50,
   "metadata": {},
   "outputs": [],
   "source": [
    "estimator = XGBRegressor(\n",
    "    objective= 'reg:squarederror',\n",
    "    nthread=4,\n",
    "    seed=42\n",
    ")"
   ]
  },
  {
   "cell_type": "code",
   "execution_count": 51,
   "metadata": {},
   "outputs": [],
   "source": [
    "parameters = {\n",
    "    'max_depth': range (2, 10, 1),\n",
    "    'n_estimators': range(60, 220, 40),\n",
    "    'learning_rate': [0.1, 0.01, 0.05]\n",
    "}"
   ]
  },
  {
   "cell_type": "code",
   "execution_count": 52,
   "metadata": {},
   "outputs": [],
   "source": [
    "grid_search = GridSearchCV(\n",
    "    estimator=estimator,\n",
    "    param_grid=parameters,\n",
    "    scoring = 'neg_root_mean_squared_error',\n",
    "    n_jobs = 10,\n",
    "    cv = 10,\n",
    "    verbose=True\n",
    ")"
   ]
  },
  {
   "cell_type": "code",
   "execution_count": 53,
   "metadata": {},
   "outputs": [
    {
     "name": "stdout",
     "output_type": "stream",
     "text": [
      "Fitting 10 folds for each of 96 candidates, totalling 960 fits\n"
     ]
    },
    {
     "name": "stderr",
     "output_type": "stream",
     "text": [
      "[Parallel(n_jobs=10)]: Using backend LokyBackend with 10 concurrent workers.\n",
      "[Parallel(n_jobs=10)]: Done  30 tasks      | elapsed:   10.4s\n",
      "[Parallel(n_jobs=10)]: Done 180 tasks      | elapsed:  1.0min\n",
      "[Parallel(n_jobs=10)]: Done 430 tasks      | elapsed:  3.3min\n",
      "[Parallel(n_jobs=10)]: Done 780 tasks      | elapsed:  6.5min\n",
      "[Parallel(n_jobs=10)]: Done 960 out of 960 | elapsed:  8.7min finished\n"
     ]
    },
    {
     "data": {
      "text/plain": [
       "GridSearchCV(cv=10, error_score=nan,\n",
       "             estimator=XGBRegressor(base_score=None, booster=None,\n",
       "                                    callbacks=None, colsample_bylevel=None,\n",
       "                                    colsample_bynode=None,\n",
       "                                    colsample_bytree=None,\n",
       "                                    early_stopping_rounds=None,\n",
       "                                    enable_categorical=False, eval_metric=None,\n",
       "                                    gamma=None, gpu_id=None, grow_policy=None,\n",
       "                                    importance_type=None,\n",
       "                                    interaction_constraints=None,\n",
       "                                    learning_rate=None, max...\n",
       "                                    n_jobs=None, nthread=4,\n",
       "                                    num_parallel_tree=None,\n",
       "                                    objective='reg:squarederror',\n",
       "                                    predictor=None, random_state=None, ...),\n",
       "             iid='deprecated', n_jobs=10,\n",
       "             param_grid={'learning_rate': [0.1, 0.01, 0.05],\n",
       "                         'max_depth': range(2, 10),\n",
       "                         'n_estimators': range(60, 220, 40)},\n",
       "             pre_dispatch='2*n_jobs', refit=True, return_train_score=False,\n",
       "             scoring='neg_root_mean_squared_error', verbose=True)"
      ]
     },
     "execution_count": 53,
     "metadata": {},
     "output_type": "execute_result"
    }
   ],
   "source": [
    "grid_search.fit(X, y)"
   ]
  },
  {
   "cell_type": "code",
   "execution_count": 54,
   "metadata": {},
   "outputs": [
    {
     "data": {
      "text/plain": [
       "XGBRegressor(base_score=0.5, booster='gbtree', callbacks=None,\n",
       "             colsample_bylevel=1, colsample_bynode=1, colsample_bytree=1,\n",
       "             early_stopping_rounds=None, enable_categorical=False,\n",
       "             eval_metric=None, gamma=0, gpu_id=-1, grow_policy='depthwise',\n",
       "             importance_type=None, interaction_constraints='',\n",
       "             learning_rate=0.05, max_bin=256, max_cat_to_onehot=4,\n",
       "             max_delta_step=0, max_depth=9, max_leaves=0, min_child_weight=1,\n",
       "             missing=nan, monotone_constraints='()', n_estimators=180, n_jobs=4,\n",
       "             nthread=4, num_parallel_tree=1, objective='reg:squarederror',\n",
       "             predictor='auto', random_state=42, ...)"
      ]
     },
     "execution_count": 54,
     "metadata": {},
     "output_type": "execute_result"
    }
   ],
   "source": [
    "grid_search.best_estimator_"
   ]
  },
  {
   "cell_type": "code",
   "execution_count": 55,
   "metadata": {},
   "outputs": [
    {
     "data": {
      "text/plain": [
       "-23.59324304311271"
      ]
     },
     "execution_count": 55,
     "metadata": {},
     "output_type": "execute_result"
    }
   ],
   "source": [
    "grid_search.best_score_"
   ]
  },
  {
   "cell_type": "markdown",
   "metadata": {},
   "source": [
    "### Train Final Model"
   ]
  },
  {
   "cell_type": "code",
   "execution_count": 56,
   "metadata": {},
   "outputs": [
    {
     "name": "stdout",
     "output_type": "stream",
     "text": [
      "RMSE: 19.63\n"
     ]
    }
   ],
   "source": [
    "dmatrix = xgb.DMatrix(data=X, label=y)\n",
    "params={ 'objective':'reg:squarederror',\n",
    "         'max_depth': 6, \n",
    "         'colsample_bylevel':0.5,\n",
    "         'learning_rate':0.05,\n",
    "         'max_depth': 9,\n",
    "#          'n_estimators': 180, \n",
    "         'random_state':20}\n",
    "cv_results = xgb.cv(dtrain=dmatrix, params=params, nfold=10, metrics={'rmse'}, as_pandas=True, seed=20, num_boost_round=1000)\n",
    "print('RMSE: %.2f' % cv_results['test-rmse-mean'].mean())"
   ]
  },
  {
   "cell_type": "code",
   "execution_count": 57,
   "metadata": {},
   "outputs": [],
   "source": [
    "xgb_bst_model = xgb.train(dtrain=dmatrix, params=params, num_boost_round=1000)"
   ]
  },
  {
   "cell_type": "code",
   "execution_count": 59,
   "metadata": {},
   "outputs": [
    {
     "data": {
      "text/plain": [
       "array([ 73.76107, 141.66962, 120.17652, ..., 183.90654, 173.29497,\n",
       "       171.41188], dtype=float32)"
      ]
     },
     "execution_count": 59,
     "metadata": {},
     "output_type": "execute_result"
    }
   ],
   "source": [
    "xgb_bst_model.predict(dmatrix)"
   ]
  },
  {
   "cell_type": "markdown",
   "metadata": {},
   "source": [
    "### Develop Prediction Dataset"
   ]
  },
  {
   "cell_type": "code",
   "execution_count": null,
   "metadata": {},
   "outputs": [],
   "source": [
    "prediction_dataset = pd.DataFrame()"
   ]
  },
  {
   "cell_type": "code",
   "execution_count": null,
   "metadata": {},
   "outputs": [],
   "source": [
    "### Key: [min_value, max_value, interval]\n",
    "ranges = {'corn_price_per_bushel': [3, 7, 2],\n",
    "                     'total_rain':[0,10,2],\n",
    "                     'rain_days':[0,30,10],\n",
    "                     'max_temp':[90,100,10],\n",
    "                     'min_temp':[0,30,10],\n",
    "                     'too_hot_days':[0,6,2],\n",
    "                     'too_cold_days':[4,10,2],\n",
    "                     'land_rental_price':[50,100,10]}"
   ]
  },
  {
   "cell_type": "code",
   "execution_count": null,
   "metadata": {},
   "outputs": [],
   "source": [
    "df_prediction_key = df_prediction[['state_name', 'county', 'lat', 'lng', 'population']].sort_values(['state_name', 'county']).drop_duplicates().reset_index(drop = True)"
   ]
  },
  {
   "cell_type": "code",
   "execution_count": null,
   "metadata": {},
   "outputs": [],
   "source": [
    "rename_dict = {0:'state_name',\n",
    "               1:'county',\n",
    "               2:'lat',\n",
    "               3:'lng',\n",
    "               4:'population',\n",
    "               5:'corn_price_per_bushel',\n",
    "               6:'total_rain',\n",
    "               7:'rain_days',\n",
    "               8:'max_temp',\n",
    "               9:'min_temp',\n",
    "               10:'too_hot_days',\n",
    "               11:'too_cold_days',\n",
    "               12:'land_rental_price'}"
   ]
  },
  {
   "cell_type": "code",
   "execution_count": null,
   "metadata": {},
   "outputs": [],
   "source": [
    "predictions_dataframe = pd.DataFrame([[0,0,0,0,0,0,0,0,0,0,0,0,0]]).rename(rename_dict,axis=1)\n",
    "predictions_dataframe.head()"
   ]
  },
  {
   "cell_type": "code",
   "execution_count": null,
   "metadata": {},
   "outputs": [],
   "source": [
    "col_names = predictions_dataframe.columns"
   ]
  },
  {
   "cell_type": "code",
   "execution_count": null,
   "metadata": {},
   "outputs": [],
   "source": [
    "%%time\n",
    "key = df_prediction_key.loc[1,:]\n",
    "    \n",
    "for corn_price in range(ranges['corn_price_per_bushel'][0], ranges['corn_price_per_bushel'][1], ranges['corn_price_per_bushel'][2]):\n",
    "    for tot_rain in range(ranges['total_rain'][0], ranges['total_rain'][1], ranges['total_rain'][2]):\n",
    "        for rain_days in range(ranges['rain_days'][0], ranges['rain_days'][1], ranges['rain_days'][2]):\n",
    "            for max_temp in range(ranges['max_temp'][0], ranges['max_temp'][1], ranges['max_temp'][2]):\n",
    "                for min_temp in range(ranges['min_temp'][0], ranges['min_temp'][1], ranges['min_temp'][2]):\n",
    "                    for hot_days in range(ranges['too_hot_days'][0], ranges['too_hot_days'][1], ranges['too_hot_days'][2]):\n",
    "                        for cold_days in range(ranges['too_cold_days'][0], ranges['too_cold_days'][1], ranges['too_cold_days'][2]):\n",
    "                            for land_rental_price in range(ranges['land_rental_price'][0], ranges['land_rental_price'][1], ranges['land_rental_price'][2]):   \n",
    "                                new_row = pd.Series([key['state_name'], key['county'], key['lat'], key['lng'], key['population'], corn_price, tot_rain, rain_days, max_temp, min_temp, hot_days, cold_days, land_rental_price])\n",
    "                                new_row.index = col_names\n",
    "                                predictions_dataframe = predictions_dataframe.append(new_row, ignore_index=True)"
   ]
  },
  {
   "cell_type": "code",
   "execution_count": null,
   "metadata": {},
   "outputs": [],
   "source": [
    "predictions_dataframe = predictions_dataframe.drop(index=0)"
   ]
  },
  {
   "cell_type": "code",
   "execution_count": null,
   "metadata": {},
   "outputs": [],
   "source": [
    "predictions_dataframe.head()"
   ]
  },
  {
   "cell_type": "code",
   "execution_count": null,
   "metadata": {},
   "outputs": [],
   "source": [
    "predictions_dataframe.to_csv('prediection_dataframe.csv', index=False)"
   ]
  },
  {
   "cell_type": "markdown",
   "metadata": {},
   "source": [
    "## Predicting Values on Final Dataset"
   ]
  },
  {
   "cell_type": "code",
   "execution_count": null,
   "metadata": {},
   "outputs": [],
   "source": [
    "pred_df = pd.read_csv(\"prediection_dataframe.csv\")"
   ]
  },
  {
   "cell_type": "code",
   "execution_count": null,
   "metadata": {},
   "outputs": [],
   "source": [
    "dmatrix_pred_X = xgb.DMatrix(data=pred_df.iloc[:,2:])"
   ]
  },
  {
   "cell_type": "code",
   "execution_count": null,
   "metadata": {},
   "outputs": [],
   "source": [
    "dmatrix_pred_y = bst.predict(dmatrix_pred_X)"
   ]
  },
  {
   "cell_type": "code",
   "execution_count": null,
   "metadata": {},
   "outputs": [],
   "source": [
    "pred_df['pred_corn_yield_per_acre'] = dmatrix_pred_y"
   ]
  },
  {
   "cell_type": "code",
   "execution_count": null,
   "metadata": {},
   "outputs": [],
   "source": [
    "pred_df.to_csv('final_results.csv', index=False)"
   ]
  },
  {
   "cell_type": "code",
   "execution_count": null,
   "metadata": {},
   "outputs": [],
   "source": []
  }
 ],
 "metadata": {
  "kernelspec": {
   "display_name": "Python 3",
   "language": "python",
   "name": "python3"
  },
  "language_info": {
   "codemirror_mode": {
    "name": "ipython",
    "version": 3
   },
   "file_extension": ".py",
   "mimetype": "text/x-python",
   "name": "python",
   "nbconvert_exporter": "python",
   "pygments_lexer": "ipython3",
   "version": "3.7.6"
  }
 },
 "nbformat": 4,
 "nbformat_minor": 4
}
